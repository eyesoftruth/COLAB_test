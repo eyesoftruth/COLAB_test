{
  "nbformat": 4,
  "nbformat_minor": 0,
  "metadata": {
    "colab": {
      "provenance": [],
      "authorship_tag": "ABX9TyNAVg08O9g1745rLYnlhwOI",
      "include_colab_link": true
    },
    "kernelspec": {
      "name": "python3",
      "display_name": "Python 3"
    },
    "language_info": {
      "name": "python"
    }
  },
  "cells": [
    {
      "cell_type": "markdown",
      "metadata": {
        "id": "view-in-github",
        "colab_type": "text"
      },
      "source": [
        "<a href=\"https://colab.research.google.com/github/eyesoftruth/COLAB_test/blob/main/test_COLAB_github.ipynb\" target=\"_parent\"><img src=\"https://colab.research.google.com/assets/colab-badge.svg\" alt=\"Open In Colab\"/></a>"
      ]
    },
    {
      "cell_type": "code",
      "execution_count": 1,
      "metadata": {
        "id": "zgDcFgMql6U0"
      },
      "outputs": [],
      "source": [
        " #write a function that will return factorial of a number n\n",
        "\n",
        "def factorial(n):\n",
        "  \"\"\"Returns the factorial of n.\"\"\"\n",
        "  if n < 0:\n",
        "    raise ValueError(\"n must be non-negative\")\n",
        "  elif n == 0:\n",
        "    return 1\n",
        "  else:\n",
        "    return n * factorial(n-1)\n"
      ]
    },
    {
      "cell_type": "code",
      "source": [
        "# call the factorial function with n=10\n",
        "\n",
        "print(factorial(10))\n"
      ],
      "metadata": {
        "colab": {
          "base_uri": "https://localhost:8080/"
        },
        "id": "j9ovVZ_CmWNA",
        "outputId": "e7386a79-d39e-4bd3-c4c9-f4ba90389f2e"
      },
      "execution_count": 2,
      "outputs": [
        {
          "output_type": "stream",
          "name": "stdout",
          "text": [
            "3628800\n"
          ]
        }
      ]
    }
  ]
}