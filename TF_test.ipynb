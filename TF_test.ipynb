{
  "nbformat": 4,
  "nbformat_minor": 0,
  "metadata": {
    "colab": {
      "provenance": [],
      "authorship_tag": "ABX9TyNHTgBag4fAXbRTlg+Lc4dh",
      "include_colab_link": true
    },
    "kernelspec": {
      "name": "python3",
      "display_name": "Python 3"
    },
    "language_info": {
      "name": "python"
    }
  },
  "cells": [
    {
      "cell_type": "markdown",
      "metadata": {
        "id": "view-in-github",
        "colab_type": "text"
      },
      "source": [
        "<a href=\"https://colab.research.google.com/github/eyesoftruth/COLAB_test/blob/main/TF_test.ipynb\" target=\"_parent\"><img src=\"https://colab.research.google.com/assets/colab-badge.svg\" alt=\"Open In Colab\"/></a>"
      ]
    },
    {
      "cell_type": "code",
      "execution_count": null,
      "metadata": {
        "colab": {
          "base_uri": "https://localhost:8080/"
        },
        "id": "Z7G0f8WRrTYB",
        "outputId": "f56517dc-1559-4ba7-a09b-56e438dddd85"
      },
      "outputs": [
        {
          "output_type": "stream",
          "name": "stdout",
          "text": [
            "Downloading data from https://storage.googleapis.com/tensorflow/tf-keras-datasets/mnist.npz\n",
            "11490434/11490434 [==============================] - 0s 0us/step\n",
            "Epoch 1/5\n",
            "1563/1563 [==============================] - 29s 18ms/step - loss: 0.1580 - accuracy: 0.9525 - val_loss: 0.0738 - val_accuracy: 0.9791\n",
            "Epoch 2/5\n",
            "1563/1563 [==============================] - 25s 16ms/step - loss: 0.0523 - accuracy: 0.9840 - val_loss: 0.0642 - val_accuracy: 0.9803\n",
            "Epoch 3/5\n",
            "1563/1563 [==============================] - 24s 15ms/step - loss: 0.0319 - accuracy: 0.9897 - val_loss: 0.0656 - val_accuracy: 0.9813\n",
            "Epoch 4/5\n",
            "1563/1563 [==============================] - 23s 15ms/step - loss: 0.0221 - accuracy: 0.9931 - val_loss: 0.0523 - val_accuracy: 0.9865\n",
            "Epoch 5/5\n",
            "1563/1563 [==============================] - 24s 15ms/step - loss: 0.0144 - accuracy: 0.9956 - val_loss: 0.0500 - val_accuracy: 0.9871\n",
            "313/313 [==============================] - 1s 4ms/step - loss: 0.0481 - accuracy: 0.9859\n",
            "Test accuracy: 0.9858999848365784\n"
          ]
        }
      ],
      "source": [
        "#This code should download the MNIST dataset,\n",
        "#split it into training, validation, and test sets,\n",
        "#build a simple convolutional neural network using TensorFlow,\n",
        "#train the model, and then evaluate its accuracy on the test set.\n",
        "\n",
        "import tensorflow as tf\n",
        "from tensorflow.keras.datasets import mnist\n",
        "\n",
        "# Load MNIST dataset\n",
        "(X_train, y_train), (X_test, y_test) = mnist.load_data()\n",
        "\n",
        "# Normalize pixel values\n",
        "X_train = X_train / 255.0\n",
        "X_test = X_test / 255.0\n",
        "\n",
        "# Add channel dimension for convolutional network\n",
        "X_train = X_train[..., tf.newaxis]\n",
        "X_test = X_test[..., tf.newaxis]\n",
        "\n",
        "# Split train into train and validation sets\n",
        "X_train, X_val = X_train[:50000], X_train[50000:]\n",
        "y_train, y_val = y_train[:50000], y_train[50000:]\n",
        "\n",
        "# Define convolutional neural network\n",
        "model = tf.keras.models.Sequential([\n",
        "  tf.keras.layers.Conv2D(filters=32, kernel_size=(3,3), activation='relu', input_shape=(28,28,1)),\n",
        "  tf.keras.layers.MaxPooling2D(pool_size=(2,2)),\n",
        "  tf.keras.layers.Flatten(),\n",
        "  tf.keras.layers.Dense(128, activation='relu'),\n",
        "  tf.keras.layers.Dense(10, activation='softmax')\n",
        "])\n",
        "\n",
        "# Compile model\n",
        "model.compile(optimizer='adam', loss='sparse_categorical_crossentropy', metrics=['accuracy'])\n",
        "\n",
        "# Train model\n",
        "model.fit(X_train, y_train, epochs=5, validation_data=(X_val, y_val))\n",
        "\n",
        "# Evaluate model on test set\n",
        "test_loss, test_acc = model.evaluate(X_test, y_test)\n",
        "print('Test accuracy:', test_acc)\n"
      ]
    }
  ]
}